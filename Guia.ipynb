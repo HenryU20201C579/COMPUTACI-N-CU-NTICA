{
 "cells": [
  {
   "cell_type": "markdown",
   "metadata": {},
   "source": [
    "## Orden de aprendizaje para la COMPUTACIÓN CUÁNTICA"
   ]
  },
  {
   "cell_type": "markdown",
   "metadata": {},
   "source": [
    "### LOS QUBITS"
   ]
  },
  {
   "cell_type": "markdown",
   "metadata": {},
   "source": [
    "    1. Un qubit se reppresenta con la esfera de bloch\n",
    "    2. Los qubits son dependientes de los valoes de α y β\n",
    "    3. El valor de los qubits es 1 = α^2 + β^2"
   ]
  },
  {
   "cell_type": "markdown",
   "metadata": {},
   "source": [
    "TIEMPO DE COHERENCIA DE UN QUBIT\n",
    "\n",
    "La coherencia cuántica es una propiedad deseada para un qubit. Su tiempo de coherencia - la duración de la coherencia del qubit - se utiliza para hacer comparaciones de calidad entre qubits. La coherencia nos cuenta algo sobre cuanto tiempo retienen información los qubits, y, entonces, nos marca su vida media"
   ]
  },
  {
   "cell_type": "markdown",
   "metadata": {},
   "source": [
    "### PUERTAS CUÁNTICAS"
   ]
  },
  {
   "cell_type": "markdown",
   "metadata": {},
   "source": [
    "Las puertas cuánticas pueden ser representadas por matrices\n",
    "\n",
    "![](https://upload.wikimedia.org/wikipedia/commons/thumb/e/e0/Quantum_Logic_Gates.png/500px-Quantum_Logic_Gates.png)\n",
    "\n",
    "Las principales son las puertas X, H y Z\n",
    "\n",
    "Las compuertas cuánticas se usarán en la criptografía"
   ]
  },
  {
   "cell_type": "markdown",
   "metadata": {},
   "source": [
    "### ENTRELAZAMIENTO CUÁNTICO Y TELEPORTACIÓN CUÁNTICA"
   ]
  },
  {
   "cell_type": "markdown",
   "metadata": {},
   "source": [
    "En el siglo 20 se comprobó que 2 particulas que surgen de la misma fuente se comportaran como una sola. Por ejemplo, si un fotón se dispara a través de un cristal se generan 2 fotones entrelazados (A y B).\n",
    "\n",
    "![](https://universitam.com/academicos/wp-content/uploads/2010/12/cuantum.jpg)\n",
    "\n",
    "A partir de ese momento, cualquier cambio en alguno de los 2 fotones se producirá en el otro fotón, **PERO** si cualquier otro fotón (P) se encuentra con alguno de estos fotones (A) y ambos quedan entrelazados, entonces A y P quedan en un nuevo estado compartido, perdiendo sus propiedades originales. Pero la información de P se transfiere a B mediante el anterior enlace que había entre A y B.\n",
    "\n",
    "Experimiento de Zeilinger en 1997"
   ]
  },
  {
   "cell_type": "markdown",
   "metadata": {},
   "source": [
    "Con esto se da la teleportación cuántica, pues la información de P pasa a A sin importar la ubicación de estos fotones."
   ]
  },
  {
   "cell_type": "markdown",
   "metadata": {},
   "source": [
    "cascada atomica = proceso para entrelazar 2 fotones"
   ]
  },
  {
   "cell_type": "markdown",
   "metadata": {},
   "source": [
    "### ALGORITMOS CUÁNTICOS"
   ]
  },
  {
   "cell_type": "markdown",
   "metadata": {},
   "source": [
    "**Algoritmo de Bernstein - Vazirani**"
   ]
  },
  {
   "cell_type": "markdown",
   "metadata": {},
   "source": [
    "-> Algoritmo que consiste en conocer un string S binario\n",
    "\n",
    "![](https://encrypted-tbn0.gstatic.com/images?q=tbn:ANd9GcQnuh0oxaUippy5t28S124PdBNVOF_-gRxCyYGuoWqgwfbzwKONlBNHQ93QXo63tDz94w&usqp=CAU)\n",
    "\n",
    "Esto permite hallar la clave oculta en una función booleana de n entradas, en un solo paso. \n",
    "\n",
    "Computación tradicional -> O(n)\n",
    "\n",
    "Computación cuántica  \\. \\. -> O(1)"
   ]
  },
  {
   "cell_type": "markdown",
   "metadata": {},
   "source": [
    "**Agoritmo Deutsch - Jozsa**"
   ]
  },
  {
   "cell_type": "markdown",
   "metadata": {},
   "source": [
    "-> Algoritmo que consiste en conocer si una entrada oculta es igual a todos los bits son 1 o son 0\n",
    "\n",
    "-> Hace uso de la superposición cuántica"
   ]
  },
  {
   "cell_type": "markdown",
   "metadata": {},
   "source": [
    "### CRIPTOGRAFÍÁ CUÁNTICA"
   ]
  },
  {
   "cell_type": "markdown",
   "metadata": {},
   "source": [
    "**CRIPTOGRAFIA TRADICIONAL** -> Algoritmo RSA\n",
    "\n",
    "**CRIPTOGRAFIA CUÁNTICA**    -> Algoritmo BB84\n",
    "\n",
    "linea de tiempo: BB84 -> E91 -> BB92 -> SARGO4 -> KMB09\n"
   ]
  },
  {
   "cell_type": "markdown",
   "metadata": {},
   "source": [
    "**NOTA: los qubits no se pueden clonar, así que esto hace más segura la criptografía cuantica TEOREMA DE NO CLONADO**"
   ]
  },
  {
   "cell_type": "markdown",
   "metadata": {},
   "source": [
    "**DISTRIBUCIÓN DE CLAVES CUÁNTICAS (QKD)**\n",
    "\n",
    "QKD permite crear claves secretas aleatorias compartidas. La cual repite este proceso cada pocos segundos, renovando las claves de encriptación. "
   ]
  },
  {
   "cell_type": "markdown",
   "metadata": {},
   "source": [
    "### REDES CUÁNTICAS"
   ]
  },
  {
   "cell_type": "markdown",
   "metadata": {},
   "source": [
    "**RED LAN CUÁNTICA**\n",
    "\n",
    "El equipo de Nocholas Peters, del Laboratorio Nacional estadounidense de Oak Ridge (ORNL) logro crear una nueva red utilizando fotones entrelazados cuánticamente que circulan a través de fibra óptica.\n",
    "\n",
    "Peters y sus colegas consiguieron enlazar cuánticamente tres nodos remotos situados en tres laboratorios de investigación diferentes en tres edificios separados del terreno ocupado por el ORNL. Desde el laboratorio que contenía el primer nodo y la fuente de fotones, estos se distribuyeron entrelazándose cuánticamente al segundo nodo y al tercero a través de la infraestructura de fibra óptica existente en el ORNL.\n",
    "\n",
    "![](https://noticiasdelaciencia.com/upload/images/11_2021/9407_nueva-red-lan-cuantica-plenamente-funcional.jpg)"
   ]
  },
  {
   "cell_type": "markdown",
   "metadata": {},
   "source": [
    "**NODOS DE REPETICIÓN**"
   ]
  },
  {
   "cell_type": "code",
   "execution_count": null,
   "metadata": {},
   "outputs": [],
   "source": []
  },
  {
   "cell_type": "markdown",
   "metadata": {},
   "source": [
    "**SATÉLITE CUANTICO**\n",
    "\n",
    "https://www.youtube.com/watch?v=7zksBtNR8ZY\n"
   ]
  }
 ],
 "metadata": {
  "kernelspec": {
   "display_name": "Python 3.10.8 64-bit",
   "language": "python",
   "name": "python3"
  },
  "language_info": {
   "codemirror_mode": {
    "name": "ipython",
    "version": 3
   },
   "file_extension": ".py",
   "mimetype": "text/x-python",
   "name": "python",
   "nbconvert_exporter": "python",
   "pygments_lexer": "ipython3",
   "version": "3.10.8"
  },
  "orig_nbformat": 4,
  "vscode": {
   "interpreter": {
    "hash": "6a57af3429fe39f1db95ae52500f0dc20b0d5b033a19c06462446e07082bc71c"
   }
  }
 },
 "nbformat": 4,
 "nbformat_minor": 2
}
